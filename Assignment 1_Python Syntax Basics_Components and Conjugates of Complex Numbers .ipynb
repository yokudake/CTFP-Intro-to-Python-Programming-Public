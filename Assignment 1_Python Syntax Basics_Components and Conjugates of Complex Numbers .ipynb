{
 "cells": [
  {
   "cell_type": "markdown",
   "metadata": {},
   "source": [
    "## CHM223 Computational Tutorial & Exercises 1 | Public Version\n",
    "---\n",
    "Designed by Kelly-Marie Yokuda & Mark W.B. Wilson | Department of Chemistry, University of Toronto\n",
    "\n",
    "*For the full version of the assignment, please contact Kelly at kelly.yokuda@gmail.com*\n",
    "\n",
    "### Tutorial Portion: Introduction to Python Syntax Basics\n",
    "#### The Learning Goals of this tutorial are as follows:\n",
    "\n",
    "1. Understand the functions of the following components in the Jupyterhub Server:\n",
    "    - How to import and export a Jupyter Notebook file\n",
    "    - Understand **cells** and their functions\n",
    "    - How to execute or **Run** Python 3 code in cells\n",
    "2. Be able to identify and interact with the following components of Python syntax:\n",
    "    - Comments\n",
    "    - Variables\n",
    "    - Methods/Functions & Arguments\n",
    "    - Data Types"
   ]
  },
  {
   "cell_type": "markdown",
   "metadata": {},
   "source": [
    "Before we begin, I have a couple of questions to ask you. Select the box, or **cell** below by clicking on it--it's border should turn green once your do so. Once you've selected the cell, *run* the code written inside of it by pressing **Run** in the tool bar above.\n",
    "\n",
    "#### Task 1: Enter the requested information into the answer boxes. \n",
    "Press ENTER after writing each anwser to move onto the next question."
   ]
  },
  {
   "cell_type": "code",
   "execution_count": 1,
   "metadata": {},
   "outputs": [
    {
     "name": "stdout",
     "output_type": "stream",
     "text": [
      "What is your full name?\tKelly Yokuda\n",
      "What is your UTorID Number?\t12345\n",
      "Thank you! -- Kelly, your TA\n"
     ]
    }
   ],
   "source": [
    "# Code Redacted for this Version"
   ]
  },
  {
   "cell_type": "markdown",
   "metadata": {},
   "source": [
    "Congratulations! You just executed or *ran* your first Python *script* . The information you entered is going to be important, so if you made any mistakes you can fix them by selecting the cell and clicking **Run** again."
   ]
  },
  {
   "cell_type": "markdown",
   "metadata": {},
   "source": [
    "Let's break down what happened there. In the previous cell you interacted with 4 examples of *Python syntax*. Python syntax is like the grammar rules for the programming language. Every programming language has its own syntax and becoming familiar with that syntax is part of growing your strength as a programmer. This act of familiarizing is similar to if you were studying a new language such as French, Spanish, Chinese, Japanese..etc, you need to understand the syntax rules for Python to be able to use the programming language efficiently.\n",
    "\n",
    "The first example of Python syntax are called **Comments**. Comments are any text or symbols that follow a **#** symbol in a given line of code. They are lines of code that don't influence the code itself. They're in place to provide information to the reader of the code about what a time of code does. Like a well kept lab notebook, good code has lots of constructive comments to help readers interpret the code. \n",
    "\n",
    "#### Task 2: From the cell you ran in Task 1, copy and paste one of the comments into the cell below. Run the cell by pressing Run (or SHIFT + ENTER). If performed correctly, nothing should happen."
   ]
  },
  {
   "cell_type": "code",
   "execution_count": null,
   "metadata": {},
   "outputs": [],
   "source": [
    "# Code Redacted for this Version"
   ]
  },
  {
   "cell_type": "markdown",
   "metadata": {},
   "source": [
    "The second example of Python syntax is **variables**. When you define a variable, you are essentially giving a name to a piece of information that is stored in the computer's memeory. Giving names to pieces of information is helpful if you ever want to access them later. For example, in the script above, I ***defined*** the variables \"name\" and \"studentID\" as the names I would use to access or ***call*** your name and UTorID from where they're stored in the computer's memory. Let's do an example of referring back to a variable, or, **calling** a variable.\n",
    "\n",
    "#### Task 3.0: In the empty cell below, type in the varible \"name\" (without quotations) and run the cell. If you run into any errors, make sure you completed Task 1 and repeat this exercise."
   ]
  },
  {
   "cell_type": "code",
   "execution_count": 2,
   "metadata": {},
   "outputs": [
    {
     "data": {
      "text/plain": [
       "'Kelly Yokuda'"
      ]
     },
     "execution_count": 2,
     "metadata": {},
     "output_type": "execute_result"
    }
   ],
   "source": [
    "# Code Redacted for this Version"
   ]
  },
  {
   "cell_type": "markdown",
   "metadata": {},
   "source": [
    "If you performed Task 1 correctly, the cell should have *returned* the name that you entered in Task 1. \n",
    "#### Task 3.1 Repeat the same exercise again with the variable \"studentID\"."
   ]
  },
  {
   "cell_type": "code",
   "execution_count": 3,
   "metadata": {},
   "outputs": [
    {
     "data": {
      "text/plain": [
       "'12345'"
      ]
     },
     "execution_count": 3,
     "metadata": {},
     "output_type": "execute_result"
    }
   ],
   "source": [
    "# Code Redacted for this Version"
   ]
  },
  {
   "cell_type": "markdown",
   "metadata": {},
   "source": [
    "Great! Now let's define a new variable. You define varibles in python by use the \"=\" sign. For example, I will define a variable for my age. Since I am 24 years old, I would define by variable as:"
   ]
  },
  {
   "cell_type": "raw",
   "metadata": {},
   "source": [
    "Kellyage = 24 "
   ]
  },
  {
   "cell_type": "markdown",
   "metadata": {},
   "source": [
    "As long as it doesn't start with a number and doesn't have any spaces or special characters, you can give your variable any name you want! \n",
    "    \n",
    "#### Task 4.0: Define your variable in the empty cell below where the value of that variable is a number. Be sure to run the cell to store your variable in the computer's memory!"
   ]
  },
  {
   "cell_type": "code",
   "execution_count": 4,
   "metadata": {},
   "outputs": [],
   "source": [
    "# Code Redacted for this Version"
   ]
  },
  {
   "cell_type": "markdown",
   "metadata": {},
   "source": [
    "#### Task 4.1: Now call your new variable in the cell below. Keep in mind that Python is a language that is case-sensitive."
   ]
  },
  {
   "cell_type": "code",
   "execution_count": 5,
   "metadata": {},
   "outputs": [
    {
     "data": {
      "text/plain": [
       "26"
      ]
     },
     "execution_count": 5,
     "metadata": {},
     "output_type": "execute_result"
    }
   ],
   "source": [
    "# Code Redacted for this Version"
   ]
  },
  {
   "cell_type": "markdown",
   "metadata": {},
   "source": [
    "Great job! Hopefully all went well. If you run into any errors, take a look at your code and make sure the syntax is correct. Most errors are syntax errors.\n",
    "\n",
    "The next example of Python syntax we will dicuss are **methods** and **arguments**. Methods are actions that can be performed on an argument, and arguments are what are given to methods to be performed on. Let's see an example.\n",
    "\n",
    "In Task 1 there is a method named <span style=\"color:green\"> input() </span> and a method named <span style=\"color:green\"> print() </span>. In Python syntax, methods have parentheses after their name. Inside the parentheses are where you enter in arguments for a method. In the case of Task 1, the arguments were \n",
    "\n",
    "<span style=\"color:red\"> \"What is your full name?\\t\" </span> for the method <span style=\"color:green\"> input() </span>  defined under the variable \"name\" and \n",
    "\n",
    "<span style=\"color:red\"> \"What is your UTorID Number?\\t\" </span> for the method <span style=\"color:green\"> input() </span> defined under the variable \"student ID\" and \n",
    "\n",
    "<span style=\"color:red\"> \"Thank you! -- Kelly, your TA\" </span> for the method <span style=\"color:green\"> print() </span> which was not defined under any variable.\n",
    "\n",
    "Here's a quick Python tenet: All methods can be assigned as variables but not all assigned variables are methods.\n",
    "\n",
    "As I mentioned before, methods can perform different actions on the arugments that are ***passed through them***. For example, the action the method <span style=\"color:green\"> print() </span> performs on the arguments is that it returns the arugment as a <span style=\"color:green\"> string </span> (we'll get to what a string is in a second, don't worry). You can learn about different Python methods and what actions they perform on arguments by looking up the *documentation* online. For example, a version of documentation for the method <span style=\"color:green\"> input() </span> is given in the following link:\n",
    "\n",
    "https://www.tutorialsteacher.com/python/input-function\n",
    "\n",
    "#### Task 5. Perfrom an example from the input method documentation in the cell below. Note that each \">>>\" represents a line of code that needs to be run. You can run these lines in seperate cells or at once in a single cell. If you come across any errors, make sure that *your variables are defined before you call them*.</h4>"
   ]
  },
  {
   "cell_type": "code",
   "execution_count": null,
   "metadata": {},
   "outputs": [],
   "source": [
    "# Code Redacted for this Version"
   ]
  },
  {
   "cell_type": "markdown",
   "metadata": {},
   "source": [
    "**Important Note**, sometimes methods are referred to as ***functions*** because the ***value*** of a method is dependent on its arguments, while the ***value*** of an argument is independent. Think about how this relates to the properties of functions in mathematics. Though the terms function and method are often used interchangeably, they technically refer to different Python elements. The difference between the two terms is that ***a method is a function that is related to an object***. Since we won't be talking about objects in this course, you can consider functions and methods to be one-and-the-same.\n",
    "\n",
    "The last example of Python syntax we'll discuss are **data types**. The term data types refer to the different ways Python stores data in a computer's memory. Python data types are split into 7 different categories that you can read about [here](https://www.w3schools.com/python/python_datatypes.asp), but for now we will only focus on two categories.\n",
    "\n",
    "The first data type we will discuss are ***strings***. Strings represent text rather than numbers, a \"string of text\" if you will. Strings are meant to be readable by both human and machine. Strings are enclosed by two quotations, either double or single. \n",
    "\n",
    "<span style=\"color:red\"> \"This is a string\" </span>\n",
    "\n",
    "<span style=\"color:red\"> 'This is also string' </span>\n",
    "\n",
    "<span style=\"color:red\"> \"Python can't interpret this, it needs to be enclosed by either two double or single quotations, not one of each.' </span>\n",
    "\n",
    "#### Task 6. Run the cell below to see an example of how the computer can read a string to anwser a question.</h4>"
   ]
  },
  {
   "cell_type": "code",
   "execution_count": 6,
   "metadata": {},
   "outputs": [
    {
     "name": "stdout",
     "output_type": "stream",
     "text": [
      "There is no I in team\n"
     ]
    }
   ],
   "source": [
    "# Code Redacted for this Version"
   ]
  },
  {
   "cell_type": "markdown",
   "metadata": {},
   "source": [
    "The second data type we will discuss are ***numeric data types*** specifically ***floats*** and ***integers***. Numeric data types are interpreted as numbers rather than strings of text. You can perform mathematical operations using numeric data types and store their results as variables. Syntax for operations is similar to those you might be use to in Excel and they include:\n",
    "<ul>\n",
    "    <li> + for Addition </li>\n",
    "    <li> - for Subtraction </li>\n",
    "    <li> / for Division </li>\n",
    "    <li> * for Multiplication </li>\n",
    "    <li> ** for \"raising an number to an exponent\" </li> \n",
    "</ul>\n",
    "\n",
    "Here are some examples of mathematic expressions in Python\n",
    "\n",
    "| Symbolically |  |Python Syntax  |  |  |\n",
    "|---|---|---|---|---|\n",
    "|$2 + 2$   |  |$2 + 2$|\n",
    "|$\\frac{1}{2}$   |  |$1/2$|  |  |\n",
    "|$2^{4}$  |  |$2^{**}4$  |  |  | \n",
    "\n",
    "Here are some other mathematic expressions in Python using variables\n",
    "\n",
    "| Symbolically |  |Python Syntax  |  |  |\n",
    "|---|---|---|---|---|\n",
    "|$\\frac{(a + b)}{c}$   |  |$(a + b)/(c)$|\n",
    "|$(a + b)c$   |  |$(a + b)^{*}c$|  |  |\n",
    "|$(a + b)^2$  |  |$(a + b)^{**}2$  |  |  | \n",
    "\n",
    "#### Task 7. In the cell below, perform one of the examples of the mathematic expressions using Python syntax. Execute the cell for the answer to the expression to be outputted. Remember that if you choose to use variables that you need to define them first.</h4>"
   ]
  },
  {
   "cell_type": "code",
   "execution_count": null,
   "metadata": {},
   "outputs": [],
   "source": [
    "# Code Redacted for this Version"
   ]
  },
  {
   "cell_type": "markdown",
   "metadata": {},
   "source": [
    "---"
   ]
  },
  {
   "cell_type": "markdown",
   "metadata": {},
   "source": [
    "## Exercise Portion: Using Python to Find the Real and Imaginary Components, and Complex Conjugates, of Complex Numbers\n",
    "\n",
    "#### The objective of this Assignment are as follows:</h4>\n",
    " <li> Practice implementing Python syntax to identify the real and imaginary parts of complex numbers.\n",
    " <li> Practice implementing Python syntax to work with complex conjugates of functions.\n",
    "     \n",
    "<h4 style = \"color:red;\"> Marking: Each exercise will be marked on ability to run the code without error, legibility, and correctness of the final answer.\n",
    "\n",
    "<h4 style = \"color:purple;\"> Instructions: Perform exercises in the cells provided. For lines of code enclosed by \"< >\" symbols, delete the line and replace its contents with your answer. See an example in the cell below.</h4>"
   ]
  },
  {
   "cell_type": "raw",
   "metadata": {},
   "source": [
    "#Given line of code\n",
    "name = <insert your name here as a string>\n",
    "\n",
    "#Student Answer\n",
    "name = \"Kelly\""
   ]
  },
  {
   "cell_type": "markdown",
   "metadata": {},
   "source": [
    "We can define complex numbers as variables in Python by using the letter \"j\", rather than the letter \"i\", to indicate the imaginary component. \n",
    "\n",
    "For example, the complex number: $2 + 3i$ would be written in Python as:"
   ]
  },
  {
   "cell_type": "raw",
   "metadata": {},
   "source": [
    "2 + 3j"
   ]
  },
  {
   "cell_type": "markdown",
   "metadata": {},
   "source": [
    "Complex numbers have their own data type \"complex\", but like any other data type they can be defined as variables. For example, I can define the complex number above under the varaible with the name \"z\" and call it under that name. Run the cell below to see this example in action."
   ]
  },
  {
   "cell_type": "code",
   "execution_count": null,
   "metadata": {},
   "outputs": [],
   "source": [
    "# Code Redacted for this Version"
   ]
  },
  {
   "cell_type": "markdown",
   "metadata": {},
   "source": [
    "#### Exercise  1: Make up 3 of your own examples of complex numbers, one with a positive real component, one with a negative imaginary component, and one with a postive real and imaginary component, and define them each as their own variable in the cell below. Use the <span style=\"color:green\"> print() </span> method to return each component as a string. You should have 6 lines of code in total.</h4> <h4 style = \"color:red;\"> (1 mark)"
   ]
  },
  {
   "cell_type": "code",
   "execution_count": null,
   "metadata": {},
   "outputs": [],
   "source": [
    "# Code Redacted for this Version"
   ]
  },
  {
   "cell_type": "markdown",
   "metadata": {},
   "source": [
    "We can now use a method to return only the real or imaginary part of the complex number. In order to use this particular method, we need to input a new ***module*** into Python. Modules are like plug-ins or extentions for Python. They are full of a bunch of different methods written by other programmers to make programming easier (Fun fact: writing modules is Kelly's favorite part of programming!). Usually we would have to download new moldules but the nice thing about Jupyter Notebook is that the ones we need are already here! All we need to do is  ***call the module***. We will be using a module named \"NumPy\".\n",
    "\n",
    "#### Exercise  2: Call the NumPy module by executing the cell below. Without executing this line of code, none of the methods that we use from NumPy will work. <h4 style = \"color:red;\"> (0 marks, but still important to do)"
   ]
  },
  {
   "cell_type": "code",
   "execution_count": null,
   "metadata": {},
   "outputs": [],
   "source": [
    "# Code Redacted for this Version"
   ]
  },
  {
   "cell_type": "markdown",
   "metadata": {},
   "source": [
    "The methods we will use to find the real and imaginary parts of our complex numbers are <span style=\"color:green\"> np.real() </span> and <span style=\"color:green\">  np.imag() </span>. Run the cell below to see an example of how to use them."
   ]
  },
  {
   "cell_type": "code",
   "execution_count": null,
   "metadata": {},
   "outputs": [],
   "source": [
    "# Code Redacted for this Version"
   ]
  },
  {
   "cell_type": "markdown",
   "metadata": {},
   "source": [
    "#### Exercise  3: In the cell below, use the methods <span style=\"color:green\"> np.real() </span> and <span style=\"color:green\">  np.imag() </span> to define new variables for the real and imaginary components of *one* of your 3 complex numbers. Use the <span style=\"color:green\"> print() </span> method to return each component as a string. <h4 style = \"color:red;\"> (1 mark)"
   ]
  },
  {
   "cell_type": "code",
   "execution_count": null,
   "metadata": {},
   "outputs": [],
   "source": [
    "# Code Redacted for this Version"
   ]
  },
  {
   "cell_type": "markdown",
   "metadata": {},
   "source": [
    "In addition to <span style=\"color:green\"> np.real() </span> and <span style=\"color:green\">  np.imag() </span>, we can also use the method <span style=\"color:green\">  np.conj() </span> to find the complex conjugate of our complex number--a method that will really come in handy for working with functions in Quantum Mechanics! Run the cell below to see an example of how to use <span style=\"color:green\">  np.conj() </span> along with <span style=\"color:green\"> np.real() </span> and <span style=\"color:green\">  np.imag() </span>."
   ]
  },
  {
   "cell_type": "code",
   "execution_count": null,
   "metadata": {},
   "outputs": [],
   "source": [
    "# Code Redacted for this Version"
   ]
  },
  {
   "cell_type": "markdown",
   "metadata": {},
   "source": [
    "#### Exercise 4: In cells below, use the methods including <span style=\"color:green\"> np.real() </span>, <span style=\"color:green\">  np.imag() </span>, and <span style=\"color:green\">  np.conj() </span> to define the complex conjugate of *one* of your complex numbers. Use the <span style=\"color:green\"> print() </span> method to return each component as a string. <h4 style = \"color:red;\"> (1 mark)"
   ]
  },
  {
   "cell_type": "code",
   "execution_count": null,
   "metadata": {},
   "outputs": [],
   "source": [
    "# Code Redacted for this Version"
   ]
  },
  {
   "cell_type": "markdown",
   "metadata": {},
   "source": [
    "#### New Method Alert! The method that returns the modulus of its arguments is <span style=\"color:green\">  np.abs() </span> \n",
    "    \n",
    "See some examples of how to use <span style=\"color:green\">  np.abs() </span> within mathmatic expressions.</h4>\n",
    "\n",
    "| Symbolically |  |Python Syntax  |  |  |\n",
    "|---|---|---|---|---|\n",
    "|$zz^{*}$   |  |$z^{*}zstar$ or $z^{*}np.conj(z)$|  |  |\n",
    "|$|z|^{2}$  |  |$np.abs(z)^{**}2$  |  |  | \n",
    "\n",
    "\n",
    "Run the cell below to see an example of some of these mathmatical expressions in action."
   ]
  },
  {
   "cell_type": "code",
   "execution_count": null,
   "metadata": {},
   "outputs": [],
   "source": [
    "# Code Redacted for this Version"
   ]
  },
  {
   "cell_type": "markdown",
   "metadata": {},
   "source": [
    "You may notice that Python did not round the variable zmod_sq to the nearest whole number. We can fix that using the method <span style=\"color:green\"> round() </span>. Run the cell below to see <span style=\"color:green\"> round() </span> in action. To see how this method works, check out the documentation below:\n",
    "\n",
    "https://www.w3schools.com/python/ref_func_round.asp"
   ]
  },
  {
   "cell_type": "code",
   "execution_count": null,
   "metadata": {},
   "outputs": [],
   "source": [
    "# Code Redacted for this Version"
   ]
  },
  {
   "cell_type": "markdown",
   "metadata": {},
   "source": [
    "Another way that we can interact with mathematical expressions in Python are through using ***Boolean statements***. Boolean statements are expressions that evaluate a logical expression can give one of two answers: True or False. Here we will use them to determine if two ***numeric data types*** have the same value or if one numeric data type is larger or smaller than another.\n",
    "\n",
    "Syntax for Boolean statements include:\n",
    "<ul>\n",
    "    <li> > \"is greater than\" </li>\n",
    "    <li> < \"is less than\" </li>\n",
    "    <li> == \"is equal to\" </li>\n",
    "    <li> != \"is not equal to\" </li>\n",
    "    <li> >=  \"is greater than or equal to\" </li>\n",
    "    <li> <= \"is less than or equal to\" </li>\n",
    "        \n",
    "Run the cells below to see Boolean statements in action. You can also read more about Boolean statements in the documentation:\n",
    "https://www.w3schools.com/python/python_booleans.asp"
   ]
  },
  {
   "cell_type": "code",
   "execution_count": null,
   "metadata": {},
   "outputs": [],
   "source": [
    "# Code Redacted for this Version"
   ]
  },
  {
   "cell_type": "markdown",
   "metadata": {},
   "source": [
    "#### Exercise 5: In the cell below, define a mathmatical expression that would return the Boolean statement *True*. Use the <span style=\"color:green\"> print() </span> method to print the result of your Boolean statement.\n",
    "<h4 style = \"color:red;\"> (1 mark)"
   ]
  },
  {
   "cell_type": "code",
   "execution_count": null,
   "metadata": {},
   "outputs": [],
   "source": [
    "# Code Redacted for this Version"
   ]
  },
  {
   "cell_type": "markdown",
   "metadata": {},
   "source": [
    "#### Exercise 6: Problem 17.11 in Levine asks you to prove that the square modulus of *any* complex number must be a real non-negative number. In the cell below, use the methods including <span style=\"color:green\"> np.real() </span>, <span style=\"color:green\">  np.imag() </span>, and <span style=\"color:green\">  np.conj() </span> to test this statement for one of *your own* complex numbers.\n",
    "    \n",
    "<h4 style = \"color:red;\"> (1 mark)"
   ]
  },
  {
   "cell_type": "code",
   "execution_count": null,
   "metadata": {},
   "outputs": [],
   "source": [
    "# Code Redacted for this Version"
   ]
  },
  {
   "cell_type": "markdown",
   "metadata": {},
   "source": [
    "<h3> Preview of the Next Tutorial: Viewing the Real and Imaginary Components of a Function Graphically </h3>\n",
    "\n",
    "In the next tutorial, we will learn how to use methods in the module **matplotlib.pyplot** to make graphs in Python as well how to use other NumPy methods to generate the data for those plots. This will become very useful for visualizing wavefunctions in Quantum Mechanics. But until then, check out an example of what we can do with those programming skills!\n",
    "\n",
    "Run the code below to see how we can use Python as a tool to visualize the real and imaginary components of the function: $f(x) = e^{i(x-\\pi)}$"
   ]
  },
  {
   "cell_type": "code",
   "execution_count": 9,
   "metadata": {
    "scrolled": true
   },
   "outputs": [
    {
     "data": {
      "text/plain": [
       "<matplotlib.legend.Legend at 0x299fdf80610>"
      ]
     },
     "execution_count": 9,
     "metadata": {},
     "output_type": "execute_result"
    },
    {
     "data": {
      "image/png": "[encoded data removed]",
      "text/plain": [
       "<Figure size 640x480 with 1 Axes>"
      ]
     },
     "metadata": {},
     "output_type": "display_data"
    }
   ],
   "source": [
    "# Code Redacted for this Version"
   ]
  },
  {
   "cell_type": "markdown",
   "metadata": {},
   "source": [
    "---"
   ]
  }
 ],
 "metadata": {
  "kernelspec": {
   "display_name": "Python 3 (ipykernel)",
   "language": "python",
   "name": "python3"
  },
  "language_info": {
   "codemirror_mode": {
    "name": "ipython",
    "version": 3
   },
   "file_extension": ".py",
   "mimetype": "text/x-python",
   "name": "python",
   "nbconvert_exporter": "python",
   "pygments_lexer": "ipython3",
   "version": "3.9.13"
  }
 },
 "nbformat": 4,
 "nbformat_minor": 2
}
